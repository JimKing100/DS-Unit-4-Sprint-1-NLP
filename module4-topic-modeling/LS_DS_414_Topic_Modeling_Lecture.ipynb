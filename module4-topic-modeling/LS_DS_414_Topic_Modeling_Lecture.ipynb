{
 "cells": [
  {
   "cell_type": "markdown",
   "metadata": {},
   "source": [
    "Lambda School Data Science\n",
    "\n",
    "*Unit 4, Sprint 1, Module 4*\n",
    "\n",
    "---"
   ]
  },
  {
   "cell_type": "markdown",
   "metadata": {},
   "source": [
    "# Topic Modeling (Prepare)"
   ]
  },
  {
   "cell_type": "markdown",
   "metadata": {},
   "source": [
    "# Latent Dirchilet Allocation (LDA) Models (Prepare)\n",
    "<a id=\"#p1\"></a>"
   ]
  },
  {
   "cell_type": "markdown",
   "metadata": {},
   "source": [
    "## Overview\n",
    "LDA is a \"generative probabilistic model\". \n",
    "\n",
    "Let's play with a modoel available [here](https://lettier.com/projects/lda-topic-modeling/)"
   ]
  },
  {
   "cell_type": "markdown",
   "metadata": {},
   "source": [
    "## Follow Along"
   ]
  },
  {
   "cell_type": "markdown",
   "metadata": {},
   "source": [
    "## Challenge "
   ]
  },
  {
   "cell_type": "markdown",
   "metadata": {},
   "source": [
    "# Estimating LDA Models with Gensim (Learn)\n",
    "<a id=\"#p1\"></a>"
   ]
  },
  {
   "cell_type": "markdown",
   "metadata": {
    "toc-hr-collapsed": true
   },
   "source": [
    "## Overview\n",
    "### A Litterary Introduction: *Jane Austen V. Charlotte Bronte*\n",
    "Despite being born nearly forty years apart, modern fans often pit Jane Austen & Charlotte Bronte against one another in a battle for litterary  supremacy. The battle centers around the topics of education for women, courting, and marriage. The authors' similiar backgrounds naturally draw comparisons, but the modern fascination is probably due to novelility of British women publishing novels during the early 19th century. \n",
    "\n",
    "Can we help close a litterary battle for supremacy and simply acknowledge that the authors addressed different topics and deserve to be acknowledged as excellent authors each in their own right?\n",
    "\n",
    "We're going to apply Latent Dirichlet Allocation a machine learning alogrithm for topic modeling to each of the author's novels to compare the distribution of topics in their novels."
   ]
  },
  {
   "cell_type": "code",
   "execution_count": 1,
   "metadata": {},
   "outputs": [
    {
     "data": {
      "text/plain": [
       "'1.16.0'"
      ]
     },
     "execution_count": 1,
     "metadata": {},
     "output_type": "execute_result"
    }
   ],
   "source": [
    "import numpy as np\n",
    "np.version.version"
   ]
  },
  {
   "cell_type": "code",
   "execution_count": 2,
   "metadata": {},
   "outputs": [],
   "source": [
    "import numpy as np\n",
    "import gensim\n",
    "import os\n",
    "import re\n",
    "\n",
    "from gensim.utils import simple_preprocess\n",
    "from gensim.parsing.preprocessing import STOPWORDS\n",
    "from gensim import corpora\n",
    "\n",
    "from gensim.models.ldamulticore import LdaMulticore\n",
    "\n",
    "import pandas as pd"
   ]
  },
  {
   "cell_type": "markdown",
   "metadata": {},
   "source": [
    "### Novel Data\n",
    "I grabbed the novel data pre-split into a bunch of smaller chuncks"
   ]
  },
  {
   "cell_type": "code",
   "execution_count": 28,
   "metadata": {},
   "outputs": [],
   "source": [
    "path = './data/austen-brontë-split'"
   ]
  },
  {
   "cell_type": "code",
   "execution_count": 29,
   "metadata": {},
   "outputs": [],
   "source": [
    "# 1) Plain Python - ''.split command\n",
    "# 2) Spacy - just the lemmas from the document\n",
    "# 3) Gensim - simple_preprocess\n",
    "\n",
    "def tokenize(text):\n",
    "    \n",
    "    return [token for token in simple_preprocess(text) if token in STOPWORDS]"
   ]
  },
  {
   "cell_type": "code",
   "execution_count": 30,
   "metadata": {},
   "outputs": [],
   "source": [
    "import os\n",
    "\n",
    "def gather_data(path_to_data): \n",
    "    data = []\n",
    "    for f in os.listdir(path):\n",
    "        if os.path.isdir(f) == False:\n",
    "            if f[-3:] == 'txt':\n",
    "                with open(os.path.join(path,f)) as t:\n",
    "                    text = t.read().strip('\\n')\n",
    "                    data.append(tokenize(str(text)))\n",
    "            \n",
    "    return data"
   ]
  },
  {
   "cell_type": "code",
   "execution_count": 31,
   "metadata": {},
   "outputs": [],
   "source": [
    "tokens = gather_data(path)"
   ]
  },
  {
   "cell_type": "code",
   "execution_count": 32,
   "metadata": {},
   "outputs": [
    {
     "data": {
      "text/plain": [
       "['she', 'found', 'that', 'he', 'was', 'only', 'his', 'an', 'of', 'the']"
      ]
     },
     "execution_count": 32,
     "metadata": {},
     "output_type": "execute_result"
    }
   ],
   "source": [
    "tokens[0][0:10]"
   ]
  },
  {
   "cell_type": "code",
   "execution_count": 33,
   "metadata": {},
   "outputs": [
    {
     "data": {
      "text/plain": [
       "'this is a sample string with a  newline character'"
      ]
     },
     "execution_count": 33,
     "metadata": {},
     "output_type": "execute_result"
    }
   ],
   "source": [
    "\"this is a sample string with a \\n newline character\".replace('\\n', '')"
   ]
  },
  {
   "cell_type": "markdown",
   "metadata": {
    "toc-hr-collapsed": true
   },
   "source": [
    "## Follow Along"
   ]
  },
  {
   "cell_type": "markdown",
   "metadata": {},
   "source": [
    "### Text Preprocessing\n",
    "**Challenge**: update the function `tokenize` with any technique you have learned so far this week. "
   ]
  },
  {
   "cell_type": "code",
   "execution_count": 35,
   "metadata": {},
   "outputs": [],
   "source": [
    "titles = [t[:-4] for t in os.listdir(path)]"
   ]
  },
  {
   "cell_type": "code",
   "execution_count": 36,
   "metadata": {},
   "outputs": [
    {
     "data": {
      "text/plain": [
       "813"
      ]
     },
     "execution_count": 36,
     "metadata": {},
     "output_type": "execute_result"
    }
   ],
   "source": [
    "len(titles)"
   ]
  },
  {
   "cell_type": "code",
   "execution_count": 37,
   "metadata": {},
   "outputs": [
    {
     "data": {
      "text/plain": [
       "['Austen_Emma0026',\n",
       " 'Austen_Emma0032',\n",
       " 'CBronte_Villette0086',\n",
       " 'CBronte_Jane0099',\n",
       " 'CBronte_Villette0092']"
      ]
     },
     "execution_count": 37,
     "metadata": {},
     "output_type": "execute_result"
    }
   ],
   "source": [
    "titles[:5]"
   ]
  },
  {
   "cell_type": "code",
   "execution_count": 38,
   "metadata": {},
   "outputs": [],
   "source": [
    "STOPWORDS = set(STOPWORDS).union(set(['said', 'mr', 'mrs']))\n",
    "\n",
    "def tokenize(text):\n",
    "    return [token for token in simple_preprocess(text) if token not in STOPWORDS]"
   ]
  },
  {
   "cell_type": "code",
   "execution_count": 39,
   "metadata": {},
   "outputs": [
    {
     "data": {
      "text/plain": [
       "['hello', 'world', 'test', 'tokenization', 'method']"
      ]
     },
     "execution_count": 39,
     "metadata": {},
     "output_type": "execute_result"
    }
   ],
   "source": [
    "tokenize(\"Hello World! This a test of the tokenization method\")"
   ]
  },
  {
   "cell_type": "markdown",
   "metadata": {},
   "source": [
    "### Author DataFrame\n"
   ]
  },
  {
   "cell_type": "code",
   "execution_count": 40,
   "metadata": {},
   "outputs": [],
   "source": [
    "df = pd.DataFrame(index=titles, data={'tokens':tokens})"
   ]
  },
  {
   "cell_type": "code",
   "execution_count": 41,
   "metadata": {},
   "outputs": [
    {
     "data": {
      "text/html": [
       "<div>\n",
       "<style scoped>\n",
       "    .dataframe tbody tr th:only-of-type {\n",
       "        vertical-align: middle;\n",
       "    }\n",
       "\n",
       "    .dataframe tbody tr th {\n",
       "        vertical-align: top;\n",
       "    }\n",
       "\n",
       "    .dataframe thead th {\n",
       "        text-align: right;\n",
       "    }\n",
       "</style>\n",
       "<table border=\"1\" class=\"dataframe\">\n",
       "  <thead>\n",
       "    <tr style=\"text-align: right;\">\n",
       "      <th></th>\n",
       "      <th>tokens</th>\n",
       "    </tr>\n",
       "  </thead>\n",
       "  <tbody>\n",
       "    <tr>\n",
       "      <th>Austen_Emma0026</th>\n",
       "      <td>[she, found, that, he, was, only, his, an, of,...</td>\n",
       "    </tr>\n",
       "    <tr>\n",
       "      <th>Austen_Emma0032</th>\n",
       "      <td>[so, very, much, that, if, it, were, to, any, ...</td>\n",
       "    </tr>\n",
       "    <tr>\n",
       "      <th>CBronte_Villette0086</th>\n",
       "      <td>[the, there, the, on, the, but, where, was, th...</td>\n",
       "    </tr>\n",
       "    <tr>\n",
       "      <th>CBronte_Jane0099</th>\n",
       "      <td>[by, and, one, of, his, and, she, could, not, ...</td>\n",
       "    </tr>\n",
       "    <tr>\n",
       "      <th>CBronte_Villette0092</th>\n",
       "      <td>[on, the, the, first, the, of, not, what, as, ...</td>\n",
       "    </tr>\n",
       "  </tbody>\n",
       "</table>\n",
       "</div>"
      ],
      "text/plain": [
       "                                                                 tokens\n",
       "Austen_Emma0026       [she, found, that, he, was, only, his, an, of,...\n",
       "Austen_Emma0032       [so, very, much, that, if, it, were, to, any, ...\n",
       "CBronte_Villette0086  [the, there, the, on, the, but, where, was, th...\n",
       "CBronte_Jane0099      [by, and, one, of, his, and, she, could, not, ...\n",
       "CBronte_Villette0092  [on, the, the, first, the, of, not, what, as, ..."
      ]
     },
     "execution_count": 41,
     "metadata": {},
     "output_type": "execute_result"
    }
   ],
   "source": [
    "df.head()"
   ]
  },
  {
   "cell_type": "code",
   "execution_count": 42,
   "metadata": {},
   "outputs": [],
   "source": [
    "df['author'] = df.reset_index()['index'].apply(lambda x: x.split('_')[0]).tolist()\n",
    "df['book'] = df.reset_index()['index'].apply(lambda x: x.split('_')[1][:-4]).tolist()\n",
    "df['section'] = df.reset_index()['index'].apply(lambda x: x[-4:]).tolist()\n",
    "df['section'] = df['section'].astype('int')"
   ]
  },
  {
   "cell_type": "code",
   "execution_count": 43,
   "metadata": {},
   "outputs": [],
   "source": [
    "df['author'] = df['author'].map({'Austen':1, 'CBronte':0})"
   ]
  },
  {
   "cell_type": "code",
   "execution_count": 44,
   "metadata": {},
   "outputs": [
    {
     "data": {
      "text/plain": [
       "0    441\n",
       "1    372\n",
       "Name: author, dtype: int64"
      ]
     },
     "execution_count": 44,
     "metadata": {},
     "output_type": "execute_result"
    }
   ],
   "source": [
    "df.author.value_counts()"
   ]
  },
  {
   "cell_type": "markdown",
   "metadata": {},
   "source": [
    "### Streaming Documents\n",
    "Here we use a new pythonic thingy: the `yield` statement in our fucntion. This allows us to iterate over a bunch of documents without actually reading them into memory. You can see how we use this fucntion later on. "
   ]
  },
  {
   "cell_type": "code",
   "execution_count": 45,
   "metadata": {},
   "outputs": [],
   "source": [
    "def doc_stream(path):\n",
    "    for f in os.listdir(path):\n",
    "        if os.path.isdir(f) == False:\n",
    "            if f[-3:] == 'txt':\n",
    "                with open(os.path.join(path,f)) as t:\n",
    "                    text = t.read().strip('\\n')\n",
    "                    tokens = tokenize(str(text))\n",
    "                yield tokens"
   ]
  },
  {
   "cell_type": "code",
   "execution_count": 47,
   "metadata": {},
   "outputs": [],
   "source": [
    "streaming_data = doc_stream(path)"
   ]
  },
  {
   "cell_type": "code",
   "execution_count": 29,
   "metadata": {},
   "outputs": [
    {
     "name": "stdout",
     "output_type": "stream",
     "text": [
      "\n"
     ]
    }
   ],
   "source": [
    "# gather_data => returns a list\n",
    "# doc_stream => returns a generator"
   ]
  },
  {
   "cell_type": "code",
   "execution_count": 50,
   "metadata": {},
   "outputs": [
    {
     "data": {
      "text/plain": [
       "['feels',\n",
       " 'like',\n",
       " 'snow',\n",
       " 'place',\n",
       " 'party',\n",
       " 'try',\n",
       " 'day',\n",
       " 'dissuade',\n",
       " 'father',\n",
       " 'venturing',\n",
       " 'mind',\n",
       " 'feel',\n",
       " 'cold',\n",
       " 'like',\n",
       " 'interfere',\n",
       " 'know',\n",
       " 'great',\n",
       " 'disappointment',\n",
       " 'weston',\n",
       " 'word',\n",
       " 'elton',\n",
       " 'case',\n",
       " 'certainly',\n",
       " 'excuse',\n",
       " 'appear',\n",
       " 'little',\n",
       " 'hoarse',\n",
       " 'consider',\n",
       " 'demand',\n",
       " 'voice',\n",
       " 'fatigues',\n",
       " 'morrow',\n",
       " 'bring',\n",
       " 'think',\n",
       " 'common',\n",
       " 'prudence',\n",
       " 'stay',\n",
       " 'home',\n",
       " 'care',\n",
       " 'night',\n",
       " 'elton',\n",
       " 'looked',\n",
       " 'know',\n",
       " 'answer',\n",
       " 'exactly',\n",
       " 'case',\n",
       " 'gratified',\n",
       " 'kind',\n",
       " 'care',\n",
       " 'fair',\n",
       " 'lady',\n",
       " 'liking',\n",
       " 'resist',\n",
       " 'advice',\n",
       " 'inclination',\n",
       " 'visit',\n",
       " 'emma',\n",
       " 'eager',\n",
       " 'busy',\n",
       " 'previous',\n",
       " 'conceptions',\n",
       " 'views',\n",
       " 'hear',\n",
       " 'impartially',\n",
       " 'clear',\n",
       " 'vision',\n",
       " 'satisfied',\n",
       " 'muttering',\n",
       " 'acknowledgment',\n",
       " 'cold',\n",
       " 'certainly',\n",
       " 'cold',\n",
       " 'walked',\n",
       " 'rejoicing',\n",
       " 'having',\n",
       " 'extricated',\n",
       " 'randalls',\n",
       " 'secured',\n",
       " 'power',\n",
       " 'sending',\n",
       " 'inquire',\n",
       " 'harriet',\n",
       " 'hour',\n",
       " 'evening',\n",
       " 'right',\n",
       " 'apologies',\n",
       " 'weston',\n",
       " 'hardly',\n",
       " 'spoken',\n",
       " 'brother',\n",
       " 'civilly',\n",
       " 'offering',\n",
       " 'seat',\n",
       " 'carriage',\n",
       " 'weather',\n",
       " 'elton',\n",
       " 'objection',\n",
       " 'elton',\n",
       " 'actually',\n",
       " 'accepting',\n",
       " 'offer',\n",
       " 'prompt',\n",
       " 'satisfaction',\n",
       " 'thing',\n",
       " 'elton',\n",
       " 'broad',\n",
       " 'handsome',\n",
       " 'face',\n",
       " 'expressed',\n",
       " 'pleasure',\n",
       " 'moment',\n",
       " 'smile',\n",
       " 'stronger',\n",
       " 'eyes',\n",
       " 'exulting',\n",
       " 'looked',\n",
       " 'strange',\n",
       " 'got',\n",
       " 'chuse',\n",
       " 'company',\n",
       " 'leave',\n",
       " 'harriet',\n",
       " 'ill',\n",
       " 'strange',\n",
       " 'believe',\n",
       " 'men',\n",
       " 'especially',\n",
       " 'single',\n",
       " 'men',\n",
       " 'inclination',\n",
       " 'passion',\n",
       " 'dining',\n",
       " 'dinner',\n",
       " 'engagement',\n",
       " 'high',\n",
       " 'class',\n",
       " 'pleasures',\n",
       " 'employments',\n",
       " 'dignities',\n",
       " 'duties',\n",
       " 'thing',\n",
       " 'gives',\n",
       " 'way',\n",
       " 'case',\n",
       " 'elton',\n",
       " 'valuable',\n",
       " 'amiable',\n",
       " 'pleasing',\n",
       " 'young',\n",
       " 'man',\n",
       " 'undoubtedly',\n",
       " 'love',\n",
       " 'harriet',\n",
       " 'refuse',\n",
       " 'invitation',\n",
       " 'dine',\n",
       " 'asked',\n",
       " 'strange',\n",
       " 'thing',\n",
       " 'love',\n",
       " 'ready',\n",
       " 'wit',\n",
       " 'harriet',\n",
       " 'dine',\n",
       " 'soon',\n",
       " 'elton',\n",
       " 'quitted',\n",
       " 'justice',\n",
       " 'feeling',\n",
       " 'great',\n",
       " 'deal',\n",
       " 'sentiment',\n",
       " 'manner',\n",
       " 'naming',\n",
       " 'harriet',\n",
       " 'parting',\n",
       " 'tone',\n",
       " 'voice',\n",
       " 'assuring',\n",
       " 'goddard',\n",
       " 'news',\n",
       " 'fair',\n",
       " 'friend',\n",
       " 'thing',\n",
       " 'prepared',\n",
       " 'happiness',\n",
       " 'meeting',\n",
       " 'hoped',\n",
       " 'able',\n",
       " 'better',\n",
       " 'report',\n",
       " 'sighed',\n",
       " 'smiled',\n",
       " 'way',\n",
       " 'left',\n",
       " 'balance',\n",
       " 'approbation',\n",
       " 'favour',\n",
       " 'minutes',\n",
       " 'entire',\n",
       " 'silence',\n",
       " 'john',\n",
       " 'knightley',\n",
       " 'began',\n",
       " 'life',\n",
       " 'saw',\n",
       " 'man',\n",
       " 'intent',\n",
       " 'agreeable',\n",
       " 'elton',\n",
       " 'downright',\n",
       " 'labour',\n",
       " 'ladies',\n",
       " 'concerned',\n",
       " 'men',\n",
       " 'rational',\n",
       " 'unaffected',\n",
       " 'ladies',\n",
       " 'feature',\n",
       " 'works',\n",
       " 'elton',\n",
       " 'manners',\n",
       " 'perfect',\n",
       " 'replied',\n",
       " 'emma',\n",
       " 'wish',\n",
       " 'ought',\n",
       " 'overlook',\n",
       " 'overlook',\n",
       " 'great',\n",
       " 'deal',\n",
       " 'man',\n",
       " 'best',\n",
       " 'moderate',\n",
       " 'powers',\n",
       " 'advantage',\n",
       " 'negligent',\n",
       " 'superiority',\n",
       " 'perfect',\n",
       " 'good',\n",
       " 'temper',\n",
       " 'good',\n",
       " 'elton',\n",
       " 'value',\n",
       " 'yes',\n",
       " 'john',\n",
       " 'knightley',\n",
       " 'presently',\n",
       " 'slyness',\n",
       " 'great',\n",
       " 'deal',\n",
       " 'good',\n",
       " 'replied',\n",
       " 'smile',\n",
       " 'astonishment',\n",
       " 'imagining',\n",
       " 'elton',\n",
       " 'object',\n",
       " 'imagination',\n",
       " 'crossed',\n",
       " 'emma',\n",
       " 'occurred',\n",
       " 'consideration',\n",
       " 'elton',\n",
       " 'love',\n",
       " 'idea',\n",
       " 'consider',\n",
       " 'regulate',\n",
       " 'behaviour',\n",
       " 'accordingly',\n",
       " 'think',\n",
       " 'manners',\n",
       " 'encouraging',\n",
       " 'speak',\n",
       " 'friend',\n",
       " 'emma',\n",
       " 'better',\n",
       " 'look',\n",
       " 'ascertain',\n",
       " 'mean',\n",
       " 'thank',\n",
       " 'assure',\n",
       " 'mistaken',\n",
       " 'elton',\n",
       " 'good',\n",
       " 'friends',\n",
       " 'walked',\n",
       " 'amusing',\n",
       " 'consideration',\n",
       " 'blunders',\n",
       " 'arise',\n",
       " 'partial',\n",
       " 'knowledge',\n",
       " 'circumstances',\n",
       " 'mistakes',\n",
       " 'people',\n",
       " 'high',\n",
       " 'pretensions',\n",
       " 'judgment',\n",
       " 'falling',\n",
       " 'pleased',\n",
       " 'brother',\n",
       " 'imagining',\n",
       " 'blind',\n",
       " 'ignorant',\n",
       " 'want',\n",
       " 'counsel',\n",
       " 'woodhouse',\n",
       " 'completely',\n",
       " 'mind',\n",
       " 'visit',\n",
       " 'spite',\n",
       " 'increasing',\n",
       " 'coldness',\n",
       " 'idea',\n",
       " 'shrinking',\n",
       " 'set',\n",
       " 'forward',\n",
       " 'punctually',\n",
       " 'eldest',\n",
       " 'daughter',\n",
       " 'carriage',\n",
       " 'apparent',\n",
       " 'consciousness',\n",
       " 'weather',\n",
       " 'wonder',\n",
       " 'going',\n",
       " 'pleasure',\n",
       " 'afford',\n",
       " 'randalls',\n",
       " 'cold',\n",
       " 'wrapt',\n",
       " 'feel',\n",
       " 'cold',\n",
       " 'severe',\n",
       " 'time',\n",
       " 'second',\n",
       " 'carriage',\n",
       " 'motion',\n",
       " 'flakes',\n",
       " 'snow',\n",
       " 'finding',\n",
       " 'way',\n",
       " 'sky',\n",
       " 'appearance',\n",
       " 'overcharged',\n",
       " 'want',\n",
       " 'milder',\n",
       " 'air',\n",
       " 'produce',\n",
       " 'white',\n",
       " 'world',\n",
       " 'short',\n",
       " 'time',\n",
       " 'emma',\n",
       " 'soon',\n",
       " 'saw',\n",
       " 'companion',\n",
       " 'happiest',\n",
       " 'humour',\n",
       " 'preparing',\n",
       " 'going',\n",
       " 'abroad',\n",
       " 'weather',\n",
       " 'sacrifice',\n",
       " 'children',\n",
       " 'dinner',\n",
       " 'evils',\n",
       " 'disagreeables',\n",
       " 'john',\n",
       " 'knightley',\n",
       " 'means',\n",
       " 'like',\n",
       " 'anticipated',\n",
       " 'visit',\n",
       " 'worth']"
      ]
     },
     "execution_count": 50,
     "metadata": {},
     "output_type": "execute_result"
    }
   ],
   "source": [
    "next(streaming_data) # Returns one document at a time from the generator"
   ]
  },
  {
   "cell_type": "markdown",
   "metadata": {},
   "source": [
    "### Gensim LDA Topic Modeling"
   ]
  },
  {
   "cell_type": "code",
   "execution_count": 83,
   "metadata": {},
   "outputs": [],
   "source": [
    "# A Dictionary Representation of all the words in our corpus\n",
    "id2word = corpora.Dictionary(doc_stream(path))"
   ]
  },
  {
   "cell_type": "code",
   "execution_count": 76,
   "metadata": {},
   "outputs": [
    {
     "data": {
      "text/plain": [
       "869"
      ]
     },
     "execution_count": 76,
     "metadata": {},
     "output_type": "execute_result"
    }
   ],
   "source": [
    "# Id of the word in the dictionary\n",
    "id2word.token2id['england']"
   ]
  },
  {
   "cell_type": "code",
   "execution_count": 77,
   "metadata": {},
   "outputs": [
    {
     "data": {
      "text/plain": [
       "'england'"
      ]
     },
     "execution_count": 77,
     "metadata": {},
     "output_type": "execute_result"
    }
   ],
   "source": [
    "id2word[869]"
   ]
  },
  {
   "cell_type": "code",
   "execution_count": 78,
   "metadata": {},
   "outputs": [
    {
     "data": {
      "text/plain": [
       "[(869, 3), (1254, 1), (2485, 1), (16851, 1)]"
      ]
     },
     "execution_count": 78,
     "metadata": {},
     "output_type": "execute_result"
    }
   ],
   "source": [
    "# bow - bag of words (id and count)\n",
    "id2word.doc2bow(tokenize(\"This is a sample message Darcy England England England\"))"
   ]
  },
  {
   "cell_type": "code",
   "execution_count": 79,
   "metadata": {},
   "outputs": [
    {
     "data": {
      "text/plain": [
       "56"
      ]
     },
     "execution_count": 79,
     "metadata": {},
     "output_type": "execute_result"
    }
   ],
   "source": [
    "# Size of vocabulary\n",
    "import sys\n",
    "sys.getsizeof(id2word)"
   ]
  },
  {
   "cell_type": "code",
   "execution_count": 80,
   "metadata": {},
   "outputs": [
    {
     "data": {
      "text/plain": [
       "22096"
      ]
     },
     "execution_count": 80,
     "metadata": {},
     "output_type": "execute_result"
    }
   ],
   "source": [
    "# Length of vocabulary across all documents\n",
    "len(id2word.keys())"
   ]
  },
  {
   "cell_type": "code",
   "execution_count": 84,
   "metadata": {},
   "outputs": [],
   "source": [
    "# Let's remove extreme values from the dataset\n",
    "id2word.filter_extremes(no_below=5, no_above=0.95)"
   ]
  },
  {
   "cell_type": "code",
   "execution_count": 85,
   "metadata": {},
   "outputs": [
    {
     "data": {
      "text/plain": [
       "8103"
      ]
     },
     "execution_count": 85,
     "metadata": {},
     "output_type": "execute_result"
    }
   ],
   "source": [
    "len(id2word.keys())"
   ]
  },
  {
   "cell_type": "code",
   "execution_count": 86,
   "metadata": {},
   "outputs": [],
   "source": [
    "# a bag of words(bow) representation of our corpus\n",
    "# Note: we haven't actually read any text into memory here\n",
    "# Although abstracted away - toeknization IS happening in the doc_stream f(x)\n",
    "corpus = [id2word.doc2bow(text) for text in doc_stream(path)]"
   ]
  },
  {
   "cell_type": "code",
   "execution_count": 87,
   "metadata": {},
   "outputs": [
    {
     "data": {
      "text/plain": [
       "[(0, 1),\n",
       " (1, 1),\n",
       " (2, 1),\n",
       " (3, 2),\n",
       " (4, 1),\n",
       " (5, 1),\n",
       " (6, 1),\n",
       " (7, 2),\n",
       " (8, 1),\n",
       " (9, 1)]"
      ]
     },
     "execution_count": 87,
     "metadata": {},
     "output_type": "execute_result"
    }
   ],
   "source": [
    "corpus[0][:10]"
   ]
  },
  {
   "cell_type": "code",
   "execution_count": 88,
   "metadata": {},
   "outputs": [],
   "source": [
    "# LDA model\n",
    "lda = LdaMulticore(corpus=corpus,    # data\n",
    "                   id2word=id2word,  # dictionary\n",
    "                   random_state=723812, # different results \n",
    "                   num_topics = 15, \n",
    "                   passes=10,        # default is 100\n",
    "                   workers=8\n",
    "                  )"
   ]
  },
  {
   "cell_type": "code",
   "execution_count": 89,
   "metadata": {},
   "outputs": [
    {
     "data": {
      "text/plain": [
       "[(0,\n",
       "  '0.006*\"apples\" + 0.006*\"rochester\" + 0.006*\"heart\" + 0.005*\"master\" + 0.004*\"kept\" + 0.004*\"face\" + 0.004*\"william\" + 0.004*\"miss\" + 0.004*\"love\" + 0.003*\"ingram\"'),\n",
       " (1,\n",
       "  '0.015*\"emma\" + 0.011*\"miss\" + 0.009*\"harriet\" + 0.008*\"weston\" + 0.007*\"thing\" + 0.007*\"think\" + 0.007*\"knightley\" + 0.007*\"elton\" + 0.006*\"good\" + 0.006*\"little\"'),\n",
       " (2,\n",
       "  '0.012*\"crimsworth\" + 0.012*\"hunsden\" + 0.007*\"house\" + 0.005*\"old\" + 0.005*\"like\" + 0.005*\"edward\" + 0.004*\"good\" + 0.004*\"man\" + 0.004*\"thought\" + 0.003*\"face\"'),\n",
       " (3,\n",
       "  '0.007*\"dr\" + 0.006*\"paul\" + 0.006*\"thought\" + 0.006*\"john\" + 0.004*\"know\" + 0.004*\"day\" + 0.004*\"hand\" + 0.004*\"madame\" + 0.004*\"good\" + 0.004*\"monsieur\"'),\n",
       " (4,\n",
       "  '0.014*\"little\" + 0.013*\"graham\" + 0.013*\"bretton\" + 0.008*\"papa\" + 0.008*\"like\" + 0.007*\"lucy\" + 0.006*\"dr\" + 0.006*\"think\" + 0.005*\"miss\" + 0.005*\"polly\"'),\n",
       " (5,\n",
       "  '0.006*\"like\" + 0.005*\"little\" + 0.004*\"know\" + 0.004*\"day\" + 0.004*\"thought\" + 0.004*\"good\" + 0.004*\"time\" + 0.004*\"night\" + 0.004*\"long\" + 0.003*\"madame\"'),\n",
       " (6,\n",
       "  '0.006*\"long\" + 0.005*\"like\" + 0.005*\"room\" + 0.005*\"door\" + 0.005*\"time\" + 0.004*\"night\" + 0.004*\"miss\" + 0.004*\"looked\" + 0.004*\"little\" + 0.004*\"garden\"'),\n",
       " (7,\n",
       "  '0.006*\"madame\" + 0.005*\"time\" + 0.004*\"good\" + 0.003*\"like\" + 0.003*\"thought\" + 0.003*\"little\" + 0.003*\"old\" + 0.003*\"man\" + 0.003*\"beck\" + 0.003*\"door\"'),\n",
       " (8,\n",
       "  '0.008*\"elizabeth\" + 0.007*\"know\" + 0.006*\"miss\" + 0.006*\"time\" + 0.005*\"think\" + 0.005*\"soon\" + 0.005*\"elinor\" + 0.005*\"good\" + 0.005*\"lady\" + 0.005*\"mother\"'),\n",
       " (9,\n",
       "  '0.018*\"marianne\" + 0.014*\"elinor\" + 0.009*\"sister\" + 0.008*\"willoughby\" + 0.007*\"darcy\" + 0.006*\"miss\" + 0.006*\"bingley\" + 0.006*\"elizabeth\" + 0.005*\"mother\" + 0.005*\"time\"'),\n",
       " (10,\n",
       "  '0.012*\"monsieur\" + 0.007*\"little\" + 0.005*\"frances\" + 0.005*\"mdlle\" + 0.005*\"english\" + 0.004*\"thought\" + 0.004*\"like\" + 0.004*\"good\" + 0.003*\"think\" + 0.003*\"yes\"'),\n",
       " (11,\n",
       "  '0.008*\"little\" + 0.004*\"time\" + 0.004*\"looked\" + 0.004*\"thought\" + 0.004*\"monsieur\" + 0.004*\"eyes\" + 0.003*\"est\" + 0.003*\"day\" + 0.003*\"face\" + 0.003*\"vous\"'),\n",
       " (12,\n",
       "  '0.014*\"rochester\" + 0.011*\"sir\" + 0.009*\"jane\" + 0.007*\"miss\" + 0.007*\"room\" + 0.006*\"bessie\" + 0.006*\"adele\" + 0.005*\"like\" + 0.005*\"fairfax\" + 0.005*\"yes\"'),\n",
       " (13,\n",
       "  '0.005*\"like\" + 0.005*\"rochester\" + 0.004*\"face\" + 0.004*\"ingram\" + 0.004*\"write\" + 0.004*\"miss\" + 0.003*\"long\" + 0.003*\"ladies\" + 0.003*\"saw\" + 0.003*\"little\"'),\n",
       " (14,\n",
       "  '0.010*\"pelet\" + 0.006*\"little\" + 0.006*\"reuter\" + 0.005*\"thought\" + 0.005*\"day\" + 0.005*\"garden\" + 0.004*\"large\" + 0.004*\"mdlle\" + 0.004*\"time\" + 0.004*\"door\"')]"
      ]
     },
     "execution_count": 89,
     "metadata": {},
     "output_type": "execute_result"
    }
   ],
   "source": [
    "lda.print_topics()"
   ]
  },
  {
   "cell_type": "code",
   "execution_count": null,
   "metadata": {},
   "outputs": [],
   "source": []
  },
  {
   "cell_type": "code",
   "execution_count": 90,
   "metadata": {},
   "outputs": [],
   "source": [
    "# Strip out the words\n",
    "words = [re.findall(r'\"([^\"]*)\"',t[1]) for t in lda.print_topics()]"
   ]
  },
  {
   "cell_type": "code",
   "execution_count": 91,
   "metadata": {},
   "outputs": [],
   "source": [
    "topics = [' '.join(t[0:5]) for t in words]"
   ]
  },
  {
   "cell_type": "code",
   "execution_count": 96,
   "metadata": {},
   "outputs": [
    {
     "name": "stdout",
     "output_type": "stream",
     "text": [
      "------ Topic 0 ------\n",
      "apples rochester heart master kept\n",
      "\n",
      "------ Topic 1 ------\n",
      "emma miss harriet weston thing\n",
      "\n",
      "------ Topic 2 ------\n",
      "crimsworth hunsden house old like\n",
      "\n",
      "------ Topic 3 ------\n",
      "dr paul thought john know\n",
      "\n",
      "------ Topic 4 ------\n",
      "little graham bretton papa like\n",
      "\n",
      "------ Topic 5 ------\n",
      "like little know day thought\n",
      "\n",
      "------ Topic 6 ------\n",
      "long like room door time\n",
      "\n",
      "------ Topic 7 ------\n",
      "madame time good like thought\n",
      "\n",
      "------ Topic 8 ------\n",
      "elizabeth know miss time think\n",
      "\n",
      "------ Topic 9 ------\n",
      "marianne elinor sister willoughby darcy\n",
      "\n",
      "------ Topic 10 ------\n",
      "monsieur little frances mdlle english\n",
      "\n",
      "------ Topic 11 ------\n",
      "little time looked thought monsieur\n",
      "\n",
      "------ Topic 12 ------\n",
      "rochester sir jane miss room\n",
      "\n",
      "------ Topic 13 ------\n",
      "like rochester face ingram write\n",
      "\n",
      "------ Topic 14 ------\n",
      "pelet little reuter thought day\n",
      "\n"
     ]
    }
   ],
   "source": [
    "for id, t in enumerate(topics): \n",
    "    print(f\"------ Topic {id} ------\")\n",
    "    print(t, end=\"\\n\\n\")"
   ]
  },
  {
   "cell_type": "markdown",
   "metadata": {},
   "source": [
    "## Challenge \n",
    "\n",
    "You will apply an LDA model to a customer review dataset to practice the fitting and estimation of LDA. "
   ]
  },
  {
   "cell_type": "markdown",
   "metadata": {},
   "source": [
    "# Interpret LDA Results (Learn)\n",
    "<a id=\"#p3\"></a>"
   ]
  },
  {
   "cell_type": "markdown",
   "metadata": {},
   "source": [
    "## Overview"
   ]
  },
  {
   "cell_type": "markdown",
   "metadata": {
    "toc-hr-collapsed": true
   },
   "source": [
    "## Follow Along"
   ]
  },
  {
   "cell_type": "markdown",
   "metadata": {},
   "source": [
    "### Topic Distance Visualization"
   ]
  },
  {
   "cell_type": "code",
   "execution_count": 97,
   "metadata": {},
   "outputs": [],
   "source": [
    "import pyLDAvis.gensim\n",
    "\n",
    "pyLDAvis.enable_notebook()"
   ]
  },
  {
   "cell_type": "code",
   "execution_count": 99,
   "metadata": {},
   "outputs": [],
   "source": [
    "# This takes an enormous amount of time to run\n",
    "# pyLDAvis.gensim.prepare(lda, corpus, id2word)"
   ]
  },
  {
   "cell_type": "markdown",
   "metadata": {},
   "source": [
    "### Overall Model / Documents"
   ]
  },
  {
   "cell_type": "code",
   "execution_count": 100,
   "metadata": {},
   "outputs": [
    {
     "data": {
      "text/plain": [
       "[(1, 0.9351618), (8, 0.06256347)]"
      ]
     },
     "execution_count": 100,
     "metadata": {},
     "output_type": "execute_result"
    }
   ],
   "source": [
    "lda[corpus[0]]"
   ]
  },
  {
   "cell_type": "code",
   "execution_count": 101,
   "metadata": {},
   "outputs": [],
   "source": [
    "distro = [lda[d] for d in corpus]"
   ]
  },
  {
   "cell_type": "code",
   "execution_count": 102,
   "metadata": {},
   "outputs": [
    {
     "data": {
      "text/plain": [
       "[(1, 0.9348644), (8, 0.06286082)]"
      ]
     },
     "execution_count": 102,
     "metadata": {},
     "output_type": "execute_result"
    }
   ],
   "source": [
    "distro[0]"
   ]
  },
  {
   "cell_type": "code",
   "execution_count": 107,
   "metadata": {},
   "outputs": [],
   "source": [
    "# Fills in list with the empty values\n",
    "distro = [lda[d] for d in corpus]\n",
    "\n",
    "def update(doc):\n",
    "        d_dist = {k:0 for k in range(0,15)}\n",
    "        for t in doc:\n",
    "            d_dist[t[0]] = t[1]\n",
    "        return d_dist\n",
    "    \n",
    "new_distro = [update(d) for d in distro]"
   ]
  },
  {
   "cell_type": "code",
   "execution_count": 108,
   "metadata": {},
   "outputs": [],
   "source": [
    "df = pd.DataFrame.from_records(new_distro, index=titles)\n",
    "df.columns = topics\n",
    "df['author'] = df.reset_index()['index'].apply(lambda x: x.split('_')[0]).tolist()"
   ]
  },
  {
   "cell_type": "code",
   "execution_count": 109,
   "metadata": {},
   "outputs": [
    {
     "data": {
      "text/html": [
       "<div>\n",
       "<style scoped>\n",
       "    .dataframe tbody tr th:only-of-type {\n",
       "        vertical-align: middle;\n",
       "    }\n",
       "\n",
       "    .dataframe tbody tr th {\n",
       "        vertical-align: top;\n",
       "    }\n",
       "\n",
       "    .dataframe thead th {\n",
       "        text-align: right;\n",
       "    }\n",
       "</style>\n",
       "<table border=\"1\" class=\"dataframe\">\n",
       "  <thead>\n",
       "    <tr style=\"text-align: right;\">\n",
       "      <th></th>\n",
       "      <th>apples rochester heart master kept</th>\n",
       "      <th>emma miss harriet weston thing</th>\n",
       "      <th>crimsworth hunsden house old like</th>\n",
       "      <th>dr paul thought john know</th>\n",
       "      <th>little graham bretton papa like</th>\n",
       "      <th>like little know day thought</th>\n",
       "      <th>long like room door time</th>\n",
       "      <th>madame time good like thought</th>\n",
       "      <th>elizabeth know miss time think</th>\n",
       "      <th>marianne elinor sister willoughby darcy</th>\n",
       "      <th>monsieur little frances mdlle english</th>\n",
       "      <th>little time looked thought monsieur</th>\n",
       "      <th>rochester sir jane miss room</th>\n",
       "      <th>like rochester face ingram write</th>\n",
       "      <th>pelet little reuter thought day</th>\n",
       "      <th>author</th>\n",
       "    </tr>\n",
       "  </thead>\n",
       "  <tbody>\n",
       "    <tr>\n",
       "      <th>Austen_Emma0026</th>\n",
       "      <td>0.0</td>\n",
       "      <td>0.934563</td>\n",
       "      <td>0.0</td>\n",
       "      <td>0.0</td>\n",
       "      <td>0.000000</td>\n",
       "      <td>0.000000</td>\n",
       "      <td>0.000000</td>\n",
       "      <td>0.0</td>\n",
       "      <td>0.063162</td>\n",
       "      <td>0.0</td>\n",
       "      <td>0.0</td>\n",
       "      <td>0.0</td>\n",
       "      <td>0.0</td>\n",
       "      <td>0.0</td>\n",
       "      <td>0.0</td>\n",
       "      <td>Austen</td>\n",
       "    </tr>\n",
       "    <tr>\n",
       "      <th>Austen_Emma0032</th>\n",
       "      <td>0.0</td>\n",
       "      <td>0.997457</td>\n",
       "      <td>0.0</td>\n",
       "      <td>0.0</td>\n",
       "      <td>0.000000</td>\n",
       "      <td>0.000000</td>\n",
       "      <td>0.000000</td>\n",
       "      <td>0.0</td>\n",
       "      <td>0.000000</td>\n",
       "      <td>0.0</td>\n",
       "      <td>0.0</td>\n",
       "      <td>0.0</td>\n",
       "      <td>0.0</td>\n",
       "      <td>0.0</td>\n",
       "      <td>0.0</td>\n",
       "      <td>Austen</td>\n",
       "    </tr>\n",
       "    <tr>\n",
       "      <th>CBronte_Villette0086</th>\n",
       "      <td>0.0</td>\n",
       "      <td>0.000000</td>\n",
       "      <td>0.0</td>\n",
       "      <td>0.0</td>\n",
       "      <td>0.260679</td>\n",
       "      <td>0.737110</td>\n",
       "      <td>0.000000</td>\n",
       "      <td>0.0</td>\n",
       "      <td>0.000000</td>\n",
       "      <td>0.0</td>\n",
       "      <td>0.0</td>\n",
       "      <td>0.0</td>\n",
       "      <td>0.0</td>\n",
       "      <td>0.0</td>\n",
       "      <td>0.0</td>\n",
       "      <td>CBronte</td>\n",
       "    </tr>\n",
       "    <tr>\n",
       "      <th>CBronte_Jane0099</th>\n",
       "      <td>0.0</td>\n",
       "      <td>0.000000</td>\n",
       "      <td>0.0</td>\n",
       "      <td>0.0</td>\n",
       "      <td>0.000000</td>\n",
       "      <td>0.000000</td>\n",
       "      <td>0.997619</td>\n",
       "      <td>0.0</td>\n",
       "      <td>0.000000</td>\n",
       "      <td>0.0</td>\n",
       "      <td>0.0</td>\n",
       "      <td>0.0</td>\n",
       "      <td>0.0</td>\n",
       "      <td>0.0</td>\n",
       "      <td>0.0</td>\n",
       "      <td>CBronte</td>\n",
       "    </tr>\n",
       "    <tr>\n",
       "      <th>CBronte_Villette0092</th>\n",
       "      <td>0.0</td>\n",
       "      <td>0.047950</td>\n",
       "      <td>0.0</td>\n",
       "      <td>0.0</td>\n",
       "      <td>0.220559</td>\n",
       "      <td>0.729689</td>\n",
       "      <td>0.000000</td>\n",
       "      <td>0.0</td>\n",
       "      <td>0.000000</td>\n",
       "      <td>0.0</td>\n",
       "      <td>0.0</td>\n",
       "      <td>0.0</td>\n",
       "      <td>0.0</td>\n",
       "      <td>0.0</td>\n",
       "      <td>0.0</td>\n",
       "      <td>CBronte</td>\n",
       "    </tr>\n",
       "  </tbody>\n",
       "</table>\n",
       "</div>"
      ],
      "text/plain": [
       "                      apples rochester heart master kept  \\\n",
       "Austen_Emma0026                                      0.0   \n",
       "Austen_Emma0032                                      0.0   \n",
       "CBronte_Villette0086                                 0.0   \n",
       "CBronte_Jane0099                                     0.0   \n",
       "CBronte_Villette0092                                 0.0   \n",
       "\n",
       "                      emma miss harriet weston thing  \\\n",
       "Austen_Emma0026                             0.934563   \n",
       "Austen_Emma0032                             0.997457   \n",
       "CBronte_Villette0086                        0.000000   \n",
       "CBronte_Jane0099                            0.000000   \n",
       "CBronte_Villette0092                        0.047950   \n",
       "\n",
       "                      crimsworth hunsden house old like  \\\n",
       "Austen_Emma0026                                     0.0   \n",
       "Austen_Emma0032                                     0.0   \n",
       "CBronte_Villette0086                                0.0   \n",
       "CBronte_Jane0099                                    0.0   \n",
       "CBronte_Villette0092                                0.0   \n",
       "\n",
       "                      dr paul thought john know  \\\n",
       "Austen_Emma0026                             0.0   \n",
       "Austen_Emma0032                             0.0   \n",
       "CBronte_Villette0086                        0.0   \n",
       "CBronte_Jane0099                            0.0   \n",
       "CBronte_Villette0092                        0.0   \n",
       "\n",
       "                      little graham bretton papa like  \\\n",
       "Austen_Emma0026                              0.000000   \n",
       "Austen_Emma0032                              0.000000   \n",
       "CBronte_Villette0086                         0.260679   \n",
       "CBronte_Jane0099                             0.000000   \n",
       "CBronte_Villette0092                         0.220559   \n",
       "\n",
       "                      like little know day thought  long like room door time  \\\n",
       "Austen_Emma0026                           0.000000                  0.000000   \n",
       "Austen_Emma0032                           0.000000                  0.000000   \n",
       "CBronte_Villette0086                      0.737110                  0.000000   \n",
       "CBronte_Jane0099                          0.000000                  0.997619   \n",
       "CBronte_Villette0092                      0.729689                  0.000000   \n",
       "\n",
       "                      madame time good like thought  \\\n",
       "Austen_Emma0026                                 0.0   \n",
       "Austen_Emma0032                                 0.0   \n",
       "CBronte_Villette0086                            0.0   \n",
       "CBronte_Jane0099                                0.0   \n",
       "CBronte_Villette0092                            0.0   \n",
       "\n",
       "                      elizabeth know miss time think  \\\n",
       "Austen_Emma0026                             0.063162   \n",
       "Austen_Emma0032                             0.000000   \n",
       "CBronte_Villette0086                        0.000000   \n",
       "CBronte_Jane0099                            0.000000   \n",
       "CBronte_Villette0092                        0.000000   \n",
       "\n",
       "                      marianne elinor sister willoughby darcy  \\\n",
       "Austen_Emma0026                                           0.0   \n",
       "Austen_Emma0032                                           0.0   \n",
       "CBronte_Villette0086                                      0.0   \n",
       "CBronte_Jane0099                                          0.0   \n",
       "CBronte_Villette0092                                      0.0   \n",
       "\n",
       "                      monsieur little frances mdlle english  \\\n",
       "Austen_Emma0026                                         0.0   \n",
       "Austen_Emma0032                                         0.0   \n",
       "CBronte_Villette0086                                    0.0   \n",
       "CBronte_Jane0099                                        0.0   \n",
       "CBronte_Villette0092                                    0.0   \n",
       "\n",
       "                      little time looked thought monsieur  \\\n",
       "Austen_Emma0026                                       0.0   \n",
       "Austen_Emma0032                                       0.0   \n",
       "CBronte_Villette0086                                  0.0   \n",
       "CBronte_Jane0099                                      0.0   \n",
       "CBronte_Villette0092                                  0.0   \n",
       "\n",
       "                      rochester sir jane miss room  \\\n",
       "Austen_Emma0026                                0.0   \n",
       "Austen_Emma0032                                0.0   \n",
       "CBronte_Villette0086                           0.0   \n",
       "CBronte_Jane0099                               0.0   \n",
       "CBronte_Villette0092                           0.0   \n",
       "\n",
       "                      like rochester face ingram write  \\\n",
       "Austen_Emma0026                                    0.0   \n",
       "Austen_Emma0032                                    0.0   \n",
       "CBronte_Villette0086                               0.0   \n",
       "CBronte_Jane0099                                   0.0   \n",
       "CBronte_Villette0092                               0.0   \n",
       "\n",
       "                      pelet little reuter thought day   author  \n",
       "Austen_Emma0026                                   0.0   Austen  \n",
       "Austen_Emma0032                                   0.0   Austen  \n",
       "CBronte_Villette0086                              0.0  CBronte  \n",
       "CBronte_Jane0099                                  0.0  CBronte  \n",
       "CBronte_Villette0092                              0.0  CBronte  "
      ]
     },
     "execution_count": 109,
     "metadata": {},
     "output_type": "execute_result"
    }
   ],
   "source": [
    "df.head()"
   ]
  },
  {
   "cell_type": "code",
   "execution_count": 110,
   "metadata": {},
   "outputs": [
    {
     "data": {
      "text/html": [
       "<div>\n",
       "<style scoped>\n",
       "    .dataframe tbody tr th:only-of-type {\n",
       "        vertical-align: middle;\n",
       "    }\n",
       "\n",
       "    .dataframe tbody tr th {\n",
       "        vertical-align: top;\n",
       "    }\n",
       "\n",
       "    .dataframe thead th {\n",
       "        text-align: right;\n",
       "    }\n",
       "</style>\n",
       "<table border=\"1\" class=\"dataframe\">\n",
       "  <thead>\n",
       "    <tr style=\"text-align: right;\">\n",
       "      <th></th>\n",
       "      <th>apples rochester heart master kept</th>\n",
       "      <th>emma miss harriet weston thing</th>\n",
       "      <th>crimsworth hunsden house old like</th>\n",
       "      <th>dr paul thought john know</th>\n",
       "      <th>little graham bretton papa like</th>\n",
       "      <th>like little know day thought</th>\n",
       "      <th>long like room door time</th>\n",
       "      <th>madame time good like thought</th>\n",
       "      <th>elizabeth know miss time think</th>\n",
       "      <th>marianne elinor sister willoughby darcy</th>\n",
       "      <th>monsieur little frances mdlle english</th>\n",
       "      <th>little time looked thought monsieur</th>\n",
       "      <th>rochester sir jane miss room</th>\n",
       "      <th>like rochester face ingram write</th>\n",
       "      <th>pelet little reuter thought day</th>\n",
       "    </tr>\n",
       "    <tr>\n",
       "      <th>author</th>\n",
       "      <th></th>\n",
       "      <th></th>\n",
       "      <th></th>\n",
       "      <th></th>\n",
       "      <th></th>\n",
       "      <th></th>\n",
       "      <th></th>\n",
       "      <th></th>\n",
       "      <th></th>\n",
       "      <th></th>\n",
       "      <th></th>\n",
       "      <th></th>\n",
       "      <th></th>\n",
       "      <th></th>\n",
       "      <th></th>\n",
       "    </tr>\n",
       "  </thead>\n",
       "  <tbody>\n",
       "    <tr>\n",
       "      <th>Austen</th>\n",
       "      <td>0.000757</td>\n",
       "      <td>0.380365</td>\n",
       "      <td>0.003865</td>\n",
       "      <td>0.000041</td>\n",
       "      <td>0.004106</td>\n",
       "      <td>0.006985</td>\n",
       "      <td>0.000990</td>\n",
       "      <td>0.000000</td>\n",
       "      <td>0.418397</td>\n",
       "      <td>0.174764</td>\n",
       "      <td>0.00173</td>\n",
       "      <td>0.000000</td>\n",
       "      <td>0.002738</td>\n",
       "      <td>0.002529</td>\n",
       "      <td>0.000063</td>\n",
       "    </tr>\n",
       "    <tr>\n",
       "      <th>CBronte</th>\n",
       "      <td>0.004425</td>\n",
       "      <td>0.010330</td>\n",
       "      <td>0.015358</td>\n",
       "      <td>0.016859</td>\n",
       "      <td>0.079202</td>\n",
       "      <td>0.540285</td>\n",
       "      <td>0.034786</td>\n",
       "      <td>0.021041</td>\n",
       "      <td>0.022976</td>\n",
       "      <td>0.001003</td>\n",
       "      <td>0.07863</td>\n",
       "      <td>0.022831</td>\n",
       "      <td>0.130277</td>\n",
       "      <td>0.006877</td>\n",
       "      <td>0.012492</td>\n",
       "    </tr>\n",
       "  </tbody>\n",
       "</table>\n",
       "</div>"
      ],
      "text/plain": [
       "         apples rochester heart master kept  emma miss harriet weston thing  \\\n",
       "author                                                                        \n",
       "Austen                             0.000757                        0.380365   \n",
       "CBronte                            0.004425                        0.010330   \n",
       "\n",
       "         crimsworth hunsden house old like  dr paul thought john know  \\\n",
       "author                                                                  \n",
       "Austen                            0.003865                   0.000041   \n",
       "CBronte                           0.015358                   0.016859   \n",
       "\n",
       "         little graham bretton papa like  like little know day thought  \\\n",
       "author                                                                   \n",
       "Austen                          0.004106                      0.006985   \n",
       "CBronte                         0.079202                      0.540285   \n",
       "\n",
       "         long like room door time  madame time good like thought  \\\n",
       "author                                                             \n",
       "Austen                   0.000990                       0.000000   \n",
       "CBronte                  0.034786                       0.021041   \n",
       "\n",
       "         elizabeth know miss time think  \\\n",
       "author                                    \n",
       "Austen                         0.418397   \n",
       "CBronte                        0.022976   \n",
       "\n",
       "         marianne elinor sister willoughby darcy  \\\n",
       "author                                             \n",
       "Austen                                  0.174764   \n",
       "CBronte                                 0.001003   \n",
       "\n",
       "         monsieur little frances mdlle english  \\\n",
       "author                                           \n",
       "Austen                                 0.00173   \n",
       "CBronte                                0.07863   \n",
       "\n",
       "         little time looked thought monsieur  rochester sir jane miss room  \\\n",
       "author                                                                       \n",
       "Austen                              0.000000                      0.002738   \n",
       "CBronte                             0.022831                      0.130277   \n",
       "\n",
       "         like rochester face ingram write  pelet little reuter thought day  \n",
       "author                                                                      \n",
       "Austen                           0.002529                         0.000063  \n",
       "CBronte                          0.006877                         0.012492  "
      ]
     },
     "execution_count": 110,
     "metadata": {},
     "output_type": "execute_result"
    }
   ],
   "source": [
    "df.groupby('author').mean()"
   ]
  },
  {
   "cell_type": "markdown",
   "metadata": {},
   "source": [
    "## Challenge\n",
    "### *Can we see if one of the authors focus more on men than women?*\n",
    "\n",
    "*  Use Spacy for text prepocessing\n",
    "*  Extract the Named Entities from the documents using Spacy (command is fairly straight forward)\n",
    "*  Create unique list of names from the authors (you'll find that there are different types of named entities not all people)\n",
    "*  Label the names with genders (can you this by hand or you use the US census name lists)\n",
    "*  Customize your processing to replace the proper name with your gender from the previous step's lookup table\n",
    "*  Then follow the rest of the LDA flow\n"
   ]
  },
  {
   "cell_type": "markdown",
   "metadata": {},
   "source": [
    "# Selecting the Number of Topics (Learn)\n",
    "<a id=\"#p4\"></a>"
   ]
  },
  {
   "cell_type": "markdown",
   "metadata": {},
   "source": [
    "## Overview"
   ]
  },
  {
   "cell_type": "markdown",
   "metadata": {},
   "source": [
    "## Follow Along"
   ]
  },
  {
   "cell_type": "code",
   "execution_count": 111,
   "metadata": {},
   "outputs": [],
   "source": [
    "from gensim.models.coherencemodel import CoherenceModel\n",
    "\n",
    "def compute_coherence_values(dictionary, corpus, path, limit, start=2, step=3, passes=5):\n",
    "    \"\"\"\n",
    "    Compute c_v coherence for various number of topics\n",
    "\n",
    "    Parameters:\n",
    "    ----------\n",
    "    dictionary : Gensim dictionary\n",
    "    corpus : Gensim corpus\n",
    "    path : path to input texts\n",
    "    limit : Max num of topics\n",
    "    passes: the number of times the entire lda model & coherence values are calculated\n",
    "\n",
    "    Returns:\n",
    "    -------\n",
    "    coherence_values : Coherence values corresponding to the LDA model with respective number of topics\n",
    "    \"\"\"\n",
    "    \n",
    "    coherence_values = []\n",
    "    \n",
    "    tokens = list(doc_stream(path))\n",
    "    \n",
    "    for iter_ in range(passes):\n",
    "        for num_topics in range(start, limit, step):\n",
    "            stream = doc_stream(path)\n",
    "            model = LdaMulticore(corpus=corpus, num_topics=num_topics, id2word=dictionary, workers=4)\n",
    "            coherencemodel = CoherenceModel(model=model,dictionary=dictionary,corpus=corpus, coherence='u_mass')\n",
    "            coherence_values.append({'pass': iter_, \n",
    "                                     'num_topics': num_topics, \n",
    "                                     'coherence_score': coherencemodel.get_coherence()\n",
    "                                    })\n",
    "\n",
    "    return coherence_values"
   ]
  },
  {
   "cell_type": "code",
   "execution_count": 113,
   "metadata": {},
   "outputs": [],
   "source": [
    "# Can take a long time to run.\n",
    "# coherence_values = compute_coherence_values(dictionary=id2word, \n",
    "#                                                        corpus=corpus, \n",
    "#                                                        path=path, \n",
    "#                                                        start=2, \n",
    "#                                                        limit=40, \n",
    "#                                                        step=6,\n",
    "#                                                        passes=40)"
   ]
  },
  {
   "cell_type": "code",
   "execution_count": 123,
   "metadata": {},
   "outputs": [],
   "source": [
    "topic_coherence = pd.DataFrame.from_records(coherence_values)"
   ]
  },
  {
   "cell_type": "code",
   "execution_count": 124,
   "metadata": {},
   "outputs": [
    {
     "data": {
      "text/html": [
       "<div>\n",
       "<style scoped>\n",
       "    .dataframe tbody tr th:only-of-type {\n",
       "        vertical-align: middle;\n",
       "    }\n",
       "\n",
       "    .dataframe tbody tr th {\n",
       "        vertical-align: top;\n",
       "    }\n",
       "\n",
       "    .dataframe thead th {\n",
       "        text-align: right;\n",
       "    }\n",
       "</style>\n",
       "<table border=\"1\" class=\"dataframe\">\n",
       "  <thead>\n",
       "    <tr style=\"text-align: right;\">\n",
       "      <th></th>\n",
       "      <th>coherence_score</th>\n",
       "      <th>num_topics</th>\n",
       "      <th>pass</th>\n",
       "    </tr>\n",
       "  </thead>\n",
       "  <tbody>\n",
       "    <tr>\n",
       "      <th>0</th>\n",
       "      <td>-0.935416</td>\n",
       "      <td>2</td>\n",
       "      <td>0</td>\n",
       "    </tr>\n",
       "    <tr>\n",
       "      <th>1</th>\n",
       "      <td>-0.939436</td>\n",
       "      <td>8</td>\n",
       "      <td>0</td>\n",
       "    </tr>\n",
       "    <tr>\n",
       "      <th>2</th>\n",
       "      <td>-0.952264</td>\n",
       "      <td>14</td>\n",
       "      <td>0</td>\n",
       "    </tr>\n",
       "    <tr>\n",
       "      <th>3</th>\n",
       "      <td>-0.912855</td>\n",
       "      <td>20</td>\n",
       "      <td>0</td>\n",
       "    </tr>\n",
       "    <tr>\n",
       "      <th>4</th>\n",
       "      <td>-0.905050</td>\n",
       "      <td>26</td>\n",
       "      <td>0</td>\n",
       "    </tr>\n",
       "  </tbody>\n",
       "</table>\n",
       "</div>"
      ],
      "text/plain": [
       "   coherence_score  num_topics  pass\n",
       "0        -0.935416           2     0\n",
       "1        -0.939436           8     0\n",
       "2        -0.952264          14     0\n",
       "3        -0.912855          20     0\n",
       "4        -0.905050          26     0"
      ]
     },
     "execution_count": 124,
     "metadata": {},
     "output_type": "execute_result"
    }
   ],
   "source": [
    "topic_coherence.head()"
   ]
  },
  {
   "cell_type": "code",
   "execution_count": 125,
   "metadata": {},
   "outputs": [
    {
     "data": {
      "image/png": "[encoded data removed]",
      "text/plain": [
       "<Figure size 432x288 with 1 Axes>"
      ]
     },
     "metadata": {
      "needs_background": "light"
     },
     "output_type": "display_data"
    }
   ],
   "source": [
    "import seaborn as sns\n",
    "\n",
    "ax = sns.lineplot(x=\"num_topics\", y=\"coherence_score\", data=topic_coherence)"
   ]
  },
  {
   "cell_type": "code",
   "execution_count": 76,
   "metadata": {},
   "outputs": [
    {
     "name": "stdout",
     "output_type": "stream",
     "text": [
      "Num Topics = 2  has Coherence Value of 0.2785\n",
      "Num Topics = 8  has Coherence Value of 0.3029\n",
      "Num Topics = 14  has Coherence Value of 0.2887\n",
      "Num Topics = 20  has Coherence Value of 0.2852\n",
      "Num Topics = 26  has Coherence Value of 0.2846\n",
      "Num Topics = 32  has Coherence Value of 0.2914\n",
      "Num Topics = 38  has Coherence Value of 0.2878\n"
     ]
    }
   ],
   "source": [
    "# Print the coherence scores\n",
    "for m, cv in zip(x, coherence_values):\n",
    "    print(\"Num Topics =\", m, \" has Coherence Value of\", round(cv, 4))"
   ]
  },
  {
   "cell_type": "code",
   "execution_count": 89,
   "metadata": {},
   "outputs": [
    {
     "data": {
      "text/plain": [
       "[(0, 0.02226036),\n",
       " (1, 0.022260414),\n",
       " (2, 0.022260347),\n",
       " (3, 0.022260347),\n",
       " (4, 0.022260392),\n",
       " (5, 0.0222604),\n",
       " (6, 0.022260347),\n",
       " (7, 0.35487327),\n",
       " (8, 0.022260398),\n",
       " (9, 0.022260517),\n",
       " (10, 0.022260416),\n",
       " (11, 0.022260422),\n",
       " (12, 0.3557417),\n",
       " (13, 0.022260347),\n",
       " (14, 0.022260347)]"
      ]
     },
     "execution_count": 89,
     "metadata": {},
     "output_type": "execute_result"
    }
   ],
   "source": [
    "lda[id2word.doc2bow(tokenize(\"This is a sample document to score with a topic distribution.\"))]"
   ]
  },
  {
   "cell_type": "markdown",
   "metadata": {},
   "source": [
    "## Challenge\n",
    "### *Can we see if one of the authors focus more on men than women?*\n",
    "\n",
    "*  Use Spacy for text prepocessing\n",
    "*  Extract the Named Entities from the documents using Spacy (command is fairly straight forward)\n",
    "*  Create unique list of names from the authors (you'll find that there are different types of named entities not all people)\n",
    "*  Label the names with genders (can you this by hand or you use the US census name lists)\n",
    "*  Customize your processing to replace the proper name with your gender from the previous step's lookup table\n",
    "*  Then follow the rest of the LDA flow"
   ]
  },
  {
   "cell_type": "code",
   "execution_count": 114,
   "metadata": {},
   "outputs": [
    {
     "name": "stderr",
     "output_type": "stream",
     "text": [
      "/Users/JKMacBook/opt/anaconda3/envs/nlp-1/lib/python3.7/site-packages/thinc/neural/train.py:7: DeprecationWarning: Using or importing the ABCs from 'collections' instead of from 'collections.abc' is deprecated, and in 3.8 it will stop working\n",
      "  from .optimizers import Adam, linear_decay\n",
      "/Users/JKMacBook/opt/anaconda3/envs/nlp-1/lib/python3.7/site-packages/thinc/check.py:4: DeprecationWarning: Using or importing the ABCs from 'collections' instead of from 'collections.abc' is deprecated, and in 3.8 it will stop working\n",
      "  from collections import Sequence, Sized, Iterable, Callable\n",
      "/Users/JKMacBook/opt/anaconda3/envs/nlp-1/lib/python3.7/site-packages/thinc/check.py:4: DeprecationWarning: Using or importing the ABCs from 'collections' instead of from 'collections.abc' is deprecated, and in 3.8 it will stop working\n",
      "  from collections import Sequence, Sized, Iterable, Callable\n",
      "/Users/JKMacBook/opt/anaconda3/envs/nlp-1/lib/python3.7/site-packages/thinc/check.py:4: DeprecationWarning: Using or importing the ABCs from 'collections' instead of from 'collections.abc' is deprecated, and in 3.8 it will stop working\n",
      "  from collections import Sequence, Sized, Iterable, Callable\n"
     ]
    }
   ],
   "source": [
    "import spacy\n",
    "\n",
    "nlp = spacy.load('en_core_web_lg')"
   ]
  },
  {
   "cell_type": "code",
   "execution_count": 115,
   "metadata": {},
   "outputs": [],
   "source": [
    "test = \"Ned asked me a question about England today.\""
   ]
  },
  {
   "cell_type": "code",
   "execution_count": 116,
   "metadata": {},
   "outputs": [
    {
     "name": "stdout",
     "output_type": "stream",
     "text": [
      "Ned Ned PROPN\n",
      "asked ask VERB\n",
      "me -PRON- PRON\n",
      "a a DET\n",
      "question question NOUN\n",
      "about about ADP\n",
      "England England PROPN\n",
      "today today NOUN\n",
      ". . PUNCT\n"
     ]
    }
   ],
   "source": [
    "doc = nlp(test)\n",
    "\n",
    "for token in doc:\n",
    "    print(token.text, token.lemma_, token.pos_)"
   ]
  },
  {
   "cell_type": "code",
   "execution_count": 117,
   "metadata": {},
   "outputs": [
    {
     "name": "stdout",
     "output_type": "stream",
     "text": [
      "Ned PERSON\n",
      "England GPE\n",
      "today DATE\n"
     ]
    }
   ],
   "source": [
    "for ent in doc.ents:\n",
    "    print(ent.text, ent.label_)"
   ]
  },
  {
   "cell_type": "code",
   "execution_count": 118,
   "metadata": {},
   "outputs": [],
   "source": [
    "def doc_stream(path):\n",
    "    for f in os.listdir(path):\n",
    "        with open(os.path.join(path,f)) as t:\n",
    "            text = t.read().strip('\\n')\n",
    "            yield text\n",
    "\n",
    "def get_people(docstream):\n",
    "    \n",
    "    ppl = []\n",
    "    \n",
    "    for d in docstream:\n",
    "        \n",
    "        doc = nlp(d)\n",
    "        \n",
    "        for ent in doc.ents:\n",
    "            \n",
    "            if ent.label_ == \"PERSON\":\n",
    "                ppl.append(ent.lemma_)\n",
    "                \n",
    "    return set(ppl)"
   ]
  },
  {
   "cell_type": "code",
   "execution_count": 120,
   "metadata": {},
   "outputs": [],
   "source": [
    "# people = get_people(doc_stream(path))"
   ]
  },
  {
   "cell_type": "code",
   "execution_count": 126,
   "metadata": {},
   "outputs": [],
   "source": [
    "doc = nlp(next(doc_stream(path)))"
   ]
  },
  {
   "cell_type": "code",
   "execution_count": 128,
   "metadata": {},
   "outputs": [
    {
     "data": {
      "text/plain": [
       "'yesterday'"
      ]
     },
     "execution_count": 128,
     "metadata": {},
     "output_type": "execute_result"
    }
   ],
   "source": [
    "doc.ents[0].lemma_"
   ]
  },
  {
   "cell_type": "markdown",
   "metadata": {},
   "source": [
    "# Sources\n",
    "\n",
    "### *References*\n",
    "* [Andrew Ng et al paper on LDA](https://ai.stanford.edu/~ang/papers/jair03-lda.pdf)\n",
    "* On [Coherence](https://pdfs.semanticscholar.org/1521/8d9c029cbb903ae7c729b2c644c24994c201.pdf)\n",
    "\n",
    "### *Resources*\n",
    "\n",
    "* [Gensim](https://radimrehurek.com/gensim/): Python package for topic modeling, nlp, word vectorization, and few other things. Well maintained and well documented.\n",
    "* [Topic Modeling with Gensim](http://www.machinelearningplus.com/nlp/topic-modeling-gensim-python/#11createthedictionaryandcorpusneededfortopicmodeling): A kind of cookbook for LDA with gensim. Excellent overview, but the you need to be aware of missing import statements and assumed prior knowledge.\n",
    "* [Chinese Restuarant Process](https://en.wikipedia.org/wiki/Chinese_restaurant_process): That really obscure stats thing I mentioned... \n",
    "* [PyLDAvis](https://github.com/bmabey/pyLDAvis): Library for visualizing the topic model and performing some exploratory work. Works well. Has a direct parrell implementation in R as well. \n",
    "* [Rare Technologies](https://rare-technologies.com/): The people that made & maintain gensim and a few other libraries.\n",
    "* [Jane Austen v. Charlotte Bronte](https://www.literaryladiesguide.com/literary-musings/jane-austen-charlotte-bronte-different-alike/)"
   ]
  }
 ],
 "metadata": {
  "kernelspec": {
   "display_name": "nlp-1 (Python3)",
   "language": "python",
   "name": "nlp-1"
  },
  "language_info": {
   "codemirror_mode": {
    "name": "ipython",
    "version": 3
   },
   "file_extension": ".py",
   "mimetype": "text/x-python",
   "name": "python",
   "nbconvert_exporter": "python",
   "pygments_lexer": "ipython3",
   "version": "3.7.0"
  }
 },
 "nbformat": 4,
 "nbformat_minor": 2
}
